{
 "cells": [
  {
   "cell_type": "code",
   "execution_count": null,
   "metadata": {},
   "outputs": [],
   "source": [
    "%load_ext autoreload\n",
    "%autoreload 2"
   ]
  },
  {
   "cell_type": "code",
   "execution_count": null,
   "metadata": {},
   "outputs": [],
   "source": [
    "import nest_asyncio\n",
    "\n",
    "nest_asyncio.apply()"
   ]
  },
  {
   "cell_type": "code",
   "execution_count": null,
   "metadata": {},
   "outputs": [],
   "source": [
    "import logging\n",
    "import os\n",
    "from datetime import datetime\n",
    "from pathlib import Path\n",
    "\n",
    "from dotenv import load_dotenv\n",
    "\n",
    "from econagents.core.game_runner import GameRunner, HybridGameRunnerConfig\n",
    "from examples.futarchy.manager import FAgentManager\n",
    "from examples.server.harberger.create_game import create_game_from_specs\n",
    "\n",
    "load_dotenv()\n",
    "\n",
    "# Load environment variables\n",
    "HOSTNAME = os.getenv(\"HOSTNAME\")\n",
    "PORT = os.getenv(\"PORT\")\n",
    "USERNAME = os.getenv(\"GAME_USERNAME\")\n",
    "PASSWORD = os.getenv(\"GAME_PASSWORD\")\n",
    "\n",
    "# Setup paths\n",
    "BASE_DIR = Path().absolute()\n",
    "LOG_PATH = BASE_DIR / \"logs\"\n",
    "GAMES_PATH = BASE_DIR / \"specs\" / \"games\"\n",
    "SPECS_PATH = BASE_DIR / \"futarchy.json\""
   ]
  },
  {
   "cell_type": "code",
   "execution_count": null,
   "metadata": {},
   "outputs": [],
   "source": [
    "# Create a new game\n",
    "new_game_data = create_game_from_specs(\n",
    "    specs_path=SPECS_PATH,\n",
    "    base_url=f\"http://{HOSTNAME}\",\n",
    "    game_name=f\"futarchy {datetime.now().strftime('%Y-%m-%d %H:%M:%S')}\",\n",
    "    credentials={\"username\": USERNAME, \"password\": PASSWORD},\n",
    ")\n",
    "game_id = new_game_data[\"game_id\"]\n",
    "num_agents = new_game_data[\"num_agents\"]\n",
    "login_payloads = new_game_data[\"login_payloads\"]\n",
    "\n",
    "# Run the game\n",
    "config = HybridGameRunnerConfig(\n",
    "    # Game configuration\n",
    "    game_id=game_id,\n",
    "    # Server configuration\n",
    "    protocol=\"ws\",\n",
    "    hostname=HOSTNAME,\n",
    "    port=int(PORT),\n",
    "    path=\"wss\",\n",
    "    # Continuous phase configuration\n",
    "    continuous_phases=[6],\n",
    "    min_action_delay=5,\n",
    "    max_action_delay=10,\n",
    "    # Logging configuration\n",
    "    log_level=logging.DEBUG,\n",
    ")\n",
    "agents = [FAgentManager(game_id=game_id, auth_mechanism_kwargs=login_payloads[i]) for i in range(num_agents)]\n",
    "runner = GameRunner(agents=agents, config=config)\n",
    "await runner.run_game()"
   ]
  },
  {
   "cell_type": "code",
   "execution_count": null,
   "metadata": {},
   "outputs": [],
   "source": [
    "login_payloads"
   ]
  }
 ],
 "metadata": {
  "kernelspec": {
   "display_name": ".venv",
   "language": "python",
   "name": "python3"
  },
  "language_info": {
   "codemirror_mode": {
    "name": "ipython",
    "version": 3
   },
   "file_extension": ".py",
   "mimetype": "text/x-python",
   "name": "python",
   "nbconvert_exporter": "python",
   "pygments_lexer": "ipython3",
   "version": "3.12.6"
  }
 },
 "nbformat": 4,
 "nbformat_minor": 2
}
