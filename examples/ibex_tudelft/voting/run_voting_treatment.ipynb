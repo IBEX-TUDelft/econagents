{
 "cells": [
  {
   "cell_type": "code",
   "execution_count": 1,
   "metadata": {},
   "outputs": [],
   "source": [
    "%load_ext autoreload\n",
    "%autoreload 2\n"
   ]
  },
  {
   "cell_type": "code",
   "execution_count": 2,
   "metadata": {},
   "outputs": [],
   "source": [
    "import nest_asyncio\n",
    "\n",
    "nest_asyncio.apply()\n",
    "\n"
   ]
  },
  {
   "cell_type": "code",
   "execution_count": 3,
   "metadata": {},
   "outputs": [],
   "source": [
    "import logging\n",
    "import os\n",
    "from datetime import datetime\n",
    "from pathlib import Path\n",
    "\n",
    "import json\n",
    "\n",
    "from dotenv import load_dotenv\n",
    "\n",
    "from econagents.core.game_runner import GameRunner, HybridGameRunnerConfig\n",
    "from examples.ibex_tudelft.voting.manager import HLAgentManager\n",
    "from examples.ibex_tudelft.create_game import create_game_from_specs\n",
    "\n",
    "load_dotenv()\n",
    "\n",
    "# Load environment variables\n",
    "HOSTNAME = os.getenv(\"HOSTNAME\")\n",
    "PORT = os.getenv(\"PORT\")\n",
    "USERNAME = os.getenv(\"GAME_USERNAME\")\n",
    "PASSWORD = os.getenv(\"GAME_PASSWORD\")"
   ]
  },
  {
   "cell_type": "code",
   "execution_count": null,
   "metadata": {},
   "outputs": [
    {
     "name": "stderr",
     "output_type": "stream",
     "text": [
      "INFO:examples.ibex_tudelft.create_game:Total number of agents: 6\n",
      "INFO:examples.ibex_tudelft.create_game:Creating new game...\n",
      "INFO:examples.ibex_tudelft.create_game:Creating game with payload: {'username': 'dylan', 'password': 'password': 'REDACTED', 'gameParameters': {'title': 'voting 2025-04-08 12:20:44', 'tax_rate': {'initial': 1, 'final': 33}, 'signal': {'low': 0.95, 'high': 1.05, 'generate': False}, 'speculators': {'count': 0, 'balance': 50000, 'shares': 5, 'max_lot_purchases': 3, 'cash_for_snipers': 250000, 'base_points': 0, 'reward_scale_factor': 1}, 'developers': {'count': 1, 'balance': 300000, 'shares': 30, 'base_points': 500000, 'reward_scale_factor': 50000, 'profit': {'no_project': {'low': 200000, 'fixed': 350000, 'high': 500000}, 'project_a': {'low': 500000, 'fixed': 1150000, 'high': 2750000}, 'project_b': {'low': 1500000, 'fixed': 1750000, 'high': 2000000}}}, 'owners': {'count': 5, 'balance': 60000, 'shares': 6, 'base_points': 0, 'reward_scale_factor': 20000, 'profit': {'no_project': {'low': 350000, 'fixed': 425000, 'high': 600000}, 'project_a': {'low': 150000, 'fixed': 275000, 'high': 350000}, 'project_b': {'low': 100000, 'fixed': 150000, 'high': 200000}}}, 'timers': {'phase_0': None, 'phase_1': '2', 'phase_2': '180', 'phase_3': '120', 'phase_4': '120', 'phase_5': '120', 'phase_6': '60', 'phase_7': '2'}, 'round_count': '5', 'agents_only': False, 'game_type': 'voting', 'practice': True, 'minutes_for_trading': 10, 'minutes_for_sniping': 2, 'session_number': 1, 'seconds_for_deliberation': 120, 'show_up_fee': 5}}\n"
     ]
    },
    {
     "name": "stdout",
     "output_type": "stream",
     "text": [
      "1\n"
     ]
    },
    {
     "name": "stderr",
     "output_type": "stream",
     "text": [
      "INFO:examples.ibex_tudelft.create_game:Game created successfully! Game ID: 498\n",
      "INFO:examples.ibex_tudelft.create_game:Getting recovery codes for all agents...\n",
      "INFO:examples.ibex_tudelft.create_game:Total number of agents: 6\n",
      "INFO:examples.ibex_tudelft.create_game:Creating new game...\n",
      "INFO:examples.ibex_tudelft.create_game:Creating game with payload: {'username': 'dylan', 'password': 'password': 'REDACTED', 'gameParameters': {'title': 'voting 2025-04-08 12:20:44', 'tax_rate': {'initial': 1, 'final': 33}, 'signal': {'low': 0.95, 'high': 1.05, 'generate': False}, 'speculators': {'count': 0, 'balance': 50000, 'shares': 5, 'max_lot_purchases': 3, 'cash_for_snipers': 250000, 'base_points': 0, 'reward_scale_factor': 1}, 'developers': {'count': 1, 'balance': 300000, 'shares': 30, 'base_points': 500000, 'reward_scale_factor': 50000, 'profit': {'no_project': {'low': 200000, 'fixed': 350000, 'high': 500000}, 'project_a': {'low': 500000, 'fixed': 1150000, 'high': 2750000}, 'project_b': {'low': 1500000, 'fixed': 1750000, 'high': 2000000}}}, 'owners': {'count': 5, 'balance': 60000, 'shares': 6, 'base_points': 0, 'reward_scale_factor': 20000, 'profit': {'no_project': {'low': 350000, 'fixed': 425000, 'high': 600000}, 'project_a': {'low': 150000, 'fixed': 275000, 'high': 350000}, 'project_b': {'low': 100000, 'fixed': 150000, 'high': 200000}}}, 'timers': {'phase_0': None, 'phase_1': '2', 'phase_2': '180', 'phase_3': '120', 'phase_4': '120', 'phase_5': '120', 'phase_6': '60', 'phase_7': '2'}, 'round_count': '5', 'agents_only': False, 'game_type': 'voting', 'practice': True, 'minutes_for_trading': 10, 'minutes_for_sniping': 2, 'session_number': 2, 'seconds_for_deliberation': 120, 'show_up_fee': 5}}\n"
     ]
    },
    {
     "name": "stdout",
     "output_type": "stream",
     "text": [
      "2\n"
     ]
    },
    {
     "name": "stderr",
     "output_type": "stream",
     "text": [
      "INFO:examples.ibex_tudelft.create_game:Game created successfully! Game ID: 499\n",
      "INFO:examples.ibex_tudelft.create_game:Getting recovery codes for all agents...\n",
      "INFO:examples.ibex_tudelft.create_game:Total number of agents: 6\n",
      "INFO:examples.ibex_tudelft.create_game:Creating new game...\n",
      "INFO:examples.ibex_tudelft.create_game:Creating game with payload: {'username': 'dylan', 'password': 'password': 'REDACTED', 'gameParameters': {'title': 'voting 2025-04-08 12:20:45', 'tax_rate': {'initial': 1, 'final': 33}, 'signal': {'low': 0.95, 'high': 1.05, 'generate': False}, 'speculators': {'count': 0, 'balance': 50000, 'shares': 5, 'max_lot_purchases': 3, 'cash_for_snipers': 250000, 'base_points': 0, 'reward_scale_factor': 1}, 'developers': {'count': 1, 'balance': 300000, 'shares': 30, 'base_points': 500000, 'reward_scale_factor': 50000, 'profit': {'no_project': {'low': 200000, 'fixed': 350000, 'high': 500000}, 'project_a': {'low': 500000, 'fixed': 1150000, 'high': 2750000}, 'project_b': {'low': 1500000, 'fixed': 1750000, 'high': 2000000}}}, 'owners': {'count': 5, 'balance': 60000, 'shares': 6, 'base_points': 0, 'reward_scale_factor': 20000, 'profit': {'no_project': {'low': 350000, 'fixed': 425000, 'high': 600000}, 'project_a': {'low': 150000, 'fixed': 275000, 'high': 350000}, 'project_b': {'low': 100000, 'fixed': 150000, 'high': 200000}}}, 'timers': {'phase_0': None, 'phase_1': '2', 'phase_2': '180', 'phase_3': '120', 'phase_4': '120', 'phase_5': '120', 'phase_6': '60', 'phase_7': '2'}, 'round_count': '5', 'agents_only': False, 'game_type': 'voting', 'practice': True, 'minutes_for_trading': 10, 'minutes_for_sniping': 2, 'session_number': 3, 'seconds_for_deliberation': 120, 'show_up_fee': 5}}\n"
     ]
    },
    {
     "name": "stdout",
     "output_type": "stream",
     "text": [
      "3\n"
     ]
    },
    {
     "name": "stderr",
     "output_type": "stream",
     "text": [
      "INFO:examples.ibex_tudelft.create_game:Game created successfully! Game ID: 500\n",
      "INFO:examples.ibex_tudelft.create_game:Getting recovery codes for all agents...\n",
      "INFO:examples.ibex_tudelft.create_game:Total number of agents: 6\n",
      "INFO:examples.ibex_tudelft.create_game:Creating new game...\n",
      "INFO:examples.ibex_tudelft.create_game:Creating game with payload: {'username': 'dylan', 'password': 'password': 'REDACTED', 'gameParameters': {'title': 'voting 2025-04-08 12:20:45', 'tax_rate': {'initial': 1, 'final': 33}, 'signal': {'low': 0.95, 'high': 1.05, 'generate': False}, 'speculators': {'count': 0, 'balance': 50000, 'shares': 5, 'max_lot_purchases': 3, 'cash_for_snipers': 250000, 'base_points': 0, 'reward_scale_factor': 1}, 'developers': {'count': 1, 'balance': 300000, 'shares': 30, 'base_points': 500000, 'reward_scale_factor': 50000, 'profit': {'no_project': {'low': 200000, 'fixed': 350000, 'high': 500000}, 'project_a': {'low': 500000, 'fixed': 1150000, 'high': 2750000}, 'project_b': {'low': 1500000, 'fixed': 1750000, 'high': 2000000}}}, 'owners': {'count': 5, 'balance': 60000, 'shares': 6, 'base_points': 0, 'reward_scale_factor': 20000, 'profit': {'no_project': {'low': 350000, 'fixed': 425000, 'high': 600000}, 'project_a': {'low': 150000, 'fixed': 275000, 'high': 350000}, 'project_b': {'low': 100000, 'fixed': 150000, 'high': 200000}}}, 'timers': {'phase_0': None, 'phase_1': '2', 'phase_2': '180', 'phase_3': '120', 'phase_4': '120', 'phase_5': '120', 'phase_6': '60', 'phase_7': '2'}, 'round_count': '5', 'agents_only': False, 'game_type': 'voting', 'practice': True, 'minutes_for_trading': 10, 'minutes_for_sniping': 2, 'session_number': 4, 'seconds_for_deliberation': 120, 'show_up_fee': 5}}\n",
      "INFO:examples.ibex_tudelft.create_game:Game created successfully! Game ID: 501\n",
      "INFO:examples.ibex_tudelft.create_game:Getting recovery codes for all agents...\n"
     ]
    },
    {
     "name": "stdout",
     "output_type": "stream",
     "text": [
      "4\n"
     ]
    },
    {
     "name": "stderr",
     "output_type": "stream",
     "text": [
      "INFO:examples.ibex_tudelft.create_game:Total number of agents: 6\n",
      "INFO:examples.ibex_tudelft.create_game:Creating new game...\n",
      "INFO:examples.ibex_tudelft.create_game:Creating game with payload: {'username': 'dylan', 'password': 'password': 'REDACTED', 'gameParameters': {'title': 'voting 2025-04-08 12:20:45', 'tax_rate': {'initial': 1, 'final': 33}, 'signal': {'low': 0.95, 'high': 1.05, 'generate': False}, 'speculators': {'count': 0, 'balance': 50000, 'shares': 5, 'max_lot_purchases': 3, 'cash_for_snipers': 250000, 'base_points': 0, 'reward_scale_factor': 1}, 'developers': {'count': 1, 'balance': 300000, 'shares': 30, 'base_points': 500000, 'reward_scale_factor': 50000, 'profit': {'no_project': {'low': 200000, 'fixed': 350000, 'high': 500000}, 'project_a': {'low': 500000, 'fixed': 1150000, 'high': 2750000}, 'project_b': {'low': 1500000, 'fixed': 1750000, 'high': 2000000}}}, 'owners': {'count': 5, 'balance': 60000, 'shares': 6, 'base_points': 0, 'reward_scale_factor': 20000, 'profit': {'no_project': {'low': 350000, 'fixed': 425000, 'high': 600000}, 'project_a': {'low': 150000, 'fixed': 275000, 'high': 350000}, 'project_b': {'low': 100000, 'fixed': 150000, 'high': 200000}}}, 'timers': {'phase_0': None, 'phase_1': '2', 'phase_2': '180', 'phase_3': '120', 'phase_4': '120', 'phase_5': '120', 'phase_6': '60', 'phase_7': '2'}, 'round_count': '5', 'agents_only': False, 'game_type': 'voting', 'practice': True, 'minutes_for_trading': 10, 'minutes_for_sniping': 2, 'session_number': 5, 'seconds_for_deliberation': 120, 'show_up_fee': 5}}\n"
     ]
    },
    {
     "name": "stdout",
     "output_type": "stream",
     "text": [
      "5\n"
     ]
    },
    {
     "name": "stderr",
     "output_type": "stream",
     "text": [
      "INFO:examples.ibex_tudelft.create_game:Game created successfully! Game ID: 502\n",
      "INFO:examples.ibex_tudelft.create_game:Getting recovery codes for all agents...\n",
      "INFO:examples.ibex_tudelft.create_game:Total number of agents: 6\n",
      "INFO:examples.ibex_tudelft.create_game:Creating new game...\n",
      "INFO:examples.ibex_tudelft.create_game:Creating game with payload: {'username': 'dylan', 'password': 'password': 'REDACTED', 'gameParameters': {'title': 'voting 2025-04-08 12:20:46', 'tax_rate': {'initial': 1, 'final': 33}, 'signal': {'low': 0.95, 'high': 1.05, 'generate': False}, 'speculators': {'count': 0, 'balance': 50000, 'shares': 5, 'max_lot_purchases': 3, 'cash_for_snipers': 250000, 'base_points': 0, 'reward_scale_factor': 1}, 'developers': {'count': 1, 'balance': 300000, 'shares': 30, 'base_points': 500000, 'reward_scale_factor': 50000, 'profit': {'no_project': {'low': 200000, 'fixed': 350000, 'high': 500000}, 'project_a': {'low': 500000, 'fixed': 1150000, 'high': 2750000}, 'project_b': {'low': 1500000, 'fixed': 1750000, 'high': 2000000}}}, 'owners': {'count': 5, 'balance': 60000, 'shares': 6, 'base_points': 0, 'reward_scale_factor': 20000, 'profit': {'no_project': {'low': 350000, 'fixed': 425000, 'high': 600000}, 'project_a': {'low': 150000, 'fixed': 275000, 'high': 350000}, 'project_b': {'low': 100000, 'fixed': 150000, 'high': 200000}}}, 'timers': {'phase_0': None, 'phase_1': '2', 'phase_2': '180', 'phase_3': '120', 'phase_4': '120', 'phase_5': '120', 'phase_6': '60', 'phase_7': '2'}, 'round_count': '5', 'agents_only': False, 'game_type': 'voting', 'practice': True, 'minutes_for_trading': 10, 'minutes_for_sniping': 2, 'session_number': 6, 'seconds_for_deliberation': 120, 'show_up_fee': 5}}\n"
     ]
    },
    {
     "name": "stdout",
     "output_type": "stream",
     "text": [
      "6\n"
     ]
    },
    {
     "name": "stderr",
     "output_type": "stream",
     "text": [
      "INFO:examples.ibex_tudelft.create_game:Game created successfully! Game ID: 503\n",
      "INFO:examples.ibex_tudelft.create_game:Getting recovery codes for all agents...\n",
      "INFO:examples.ibex_tudelft.create_game:Total number of agents: 6\n",
      "INFO:examples.ibex_tudelft.create_game:Creating new game...\n",
      "INFO:examples.ibex_tudelft.create_game:Creating game with payload: {'username': 'dylan', 'password': 'password': 'REDACTED', 'gameParameters': {'title': 'voting 2025-04-08 12:20:46', 'tax_rate': {'initial': 1, 'final': 33}, 'signal': {'low': 0.95, 'high': 1.05, 'generate': False}, 'speculators': {'count': 0, 'balance': 50000, 'shares': 5, 'max_lot_purchases': 3, 'cash_for_snipers': 250000, 'base_points': 0, 'reward_scale_factor': 1}, 'developers': {'count': 1, 'balance': 300000, 'shares': 30, 'base_points': 500000, 'reward_scale_factor': 50000, 'profit': {'no_project': {'low': 200000, 'fixed': 350000, 'high': 500000}, 'project_a': {'low': 500000, 'fixed': 1150000, 'high': 2750000}, 'project_b': {'low': 1500000, 'fixed': 1750000, 'high': 2000000}}}, 'owners': {'count': 5, 'balance': 60000, 'shares': 6, 'base_points': 0, 'reward_scale_factor': 20000, 'profit': {'no_project': {'low': 350000, 'fixed': 425000, 'high': 600000}, 'project_a': {'low': 150000, 'fixed': 275000, 'high': 350000}, 'project_b': {'low': 100000, 'fixed': 150000, 'high': 200000}}}, 'timers': {'phase_0': None, 'phase_1': '2', 'phase_2': '180', 'phase_3': '120', 'phase_4': '120', 'phase_5': '120', 'phase_6': '60', 'phase_7': '2'}, 'round_count': '5', 'agents_only': False, 'game_type': 'voting', 'practice': True, 'minutes_for_trading': 10, 'minutes_for_sniping': 2, 'session_number': 7, 'seconds_for_deliberation': 120, 'show_up_fee': 5}}\n"
     ]
    },
    {
     "name": "stdout",
     "output_type": "stream",
     "text": [
      "7\n"
     ]
    },
    {
     "name": "stderr",
     "output_type": "stream",
     "text": [
      "INFO:examples.ibex_tudelft.create_game:Game created successfully! Game ID: 504\n",
      "INFO:examples.ibex_tudelft.create_game:Getting recovery codes for all agents...\n"
     ]
    }
   ],
   "source": [
    "\n",
    "for i in range(1,8):\n",
    "    print (i)\n",
    "    with open(Path().absolute() / \"voting_treatment.json\", \"r\") as jsonFile:\n",
    "        data = json.load(jsonFile)\n",
    "        data[\"session_number\"] = i\n",
    "\n",
    "\n",
    "    with open(Path().absolute() / \"voting_treatment.json\", \"w\") as jsonFile:\n",
    "        json.dump(data, jsonFile)# Create a new game\n",
    "\n",
    "    new_game_data = create_game_from_specs(\n",
    "        specs_path=Path().absolute() / \"voting_treatment.json\",\n",
    "        base_url=f\"http://{HOSTNAME}\",\n",
    "        game_name=f\"voting {datetime.now().strftime('%Y-%m-%d %H:%M:%S')}\",\n",
    "        credentials={\"username\": USERNAME, \"password\": PASSWORD},\n",
    "    )\n",
    "\n",
    "    game_id = new_game_data[\"game_id\"]\n",
    "    num_agents = new_game_data[\"num_agents\"]\n",
    "    login_payloads = new_game_data[\"login_payloads\"]\n",
    "\n",
    "# Run the game\n",
    "    config = HybridGameRunnerConfig(\n",
    "    # Game configuration\n",
    "        game_id=game_id,\n",
    "    # Server configuration\n",
    "        protocol=\"ws\",\n",
    "        hostname=HOSTNAME,\n",
    "        port=int(PORT),\n",
    "        path=\"wss\",\n",
    "    # Continuous-time phase configuration\n",
    "        continuous_phases=[2,5],\n",
    "        min_action_delay=2,\n",
    "        max_action_delay=7,\n",
    "    # Logging configuration\n",
    "        log_level=logging.DEBUG,\n",
    "    )\n",
    "    agents = [HLAgentManager(game_id=game_id, auth_mechanism_kwargs=login_payloads[i]) for i in range(num_agents)]\n",
    "    runner = GameRunner(agents=agents, config=config)\n",
    "    await runner.run_game()\n",
    "\n",
    "    "
   ]
  },
  {
   "cell_type": "code",
   "execution_count": 5,
   "metadata": {},
   "outputs": [
    {
     "name": "stdout",
     "output_type": "stream",
     "text": [
      "1\n",
      "2\n",
      "3\n",
      "4\n",
      "5\n",
      "6\n"
     ]
    }
   ],
   "source": [
    "\n",
    "    "
   ]
  },
  {
   "cell_type": "code",
   "execution_count": null,
   "metadata": {},
   "outputs": [],
   "source": []
  }
 ],
 "metadata": {
  "kernelspec": {
   "display_name": ".venv",
   "language": "python",
   "name": "python3"
  },
  "language_info": {
   "codemirror_mode": {
    "name": "ipython",
    "version": 3
   },
   "file_extension": ".py",
   "mimetype": "text/x-python",
   "name": "python",
   "nbconvert_exporter": "python",
   "pygments_lexer": "ipython3",
   "version": "3.12.9"
  }
 },
 "nbformat": 4,
 "nbformat_minor": 2
}
