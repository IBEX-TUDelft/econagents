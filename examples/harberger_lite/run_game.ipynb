{
 "cells": [
  {
   "cell_type": "code",
   "execution_count": 1,
   "metadata": {},
   "outputs": [],
   "source": [
    "%load_ext autoreload\n",
    "%autoreload 2"
   ]
  },
  {
   "cell_type": "code",
   "execution_count": 2,
   "metadata": {},
   "outputs": [],
   "source": [
    "import nest_asyncio\n",
    "\n",
    "nest_asyncio.apply()"
   ]
  },
  {
   "cell_type": "code",
   "execution_count": 3,
   "metadata": {},
   "outputs": [],
   "source": [
    "import os\n",
    "from datetime import datetime\n",
    "from pathlib import Path\n",
    "\n",
    "from dotenv import load_dotenv\n",
    "\n",
    "from econagents.core.game_runner import GameRunner, GameRunnerConfig\n",
    "from examples.server.create_game import create_game_from_specs\n",
    "from examples.harberger_lite.manager import HarbergerAgentManager\n",
    "\n",
    "load_dotenv()\n",
    "\n",
    "# Load environment variables\n",
    "HOSTNAME = os.getenv(\"HOSTNAME\")\n",
    "PORT = os.getenv(\"PORT\")\n",
    "\n",
    "# Setup paths\n",
    "BASE_DIR = Path().absolute()\n",
    "LOG_PATH = BASE_DIR / \"logs\"\n",
    "GAMES_PATH = BASE_DIR / \"specs\" / \"games\"\n",
    "SPECS_PATH = BASE_DIR / \"specs\" / \"harberger.json\""
   ]
  },
  {
   "cell_type": "code",
   "execution_count": null,
   "metadata": {},
   "outputs": [],
   "source": [
    "config = GameRunnerConfig(hostname=HOSTNAME, port=PORT, log_path=LOG_PATH, games_path=GAMES_PATH)\n",
    "runner = GameRunner(config=config, agent_manager_class=HarbergerAgentManager)\n",
    "game_name = f\"harberger {datetime.now().strftime('%Y-%m-%d %H:%M:%S')}\"\n",
    "\n",
    "await runner.create_and_run_game(specs_path=SPECS_PATH, game_creator_func=create_game_from_specs, game_name=game_name)"
   ]
  }
 ],
 "metadata": {
  "kernelspec": {
   "display_name": ".venv",
   "language": "python",
   "name": "python3"
  },
  "language_info": {
   "codemirror_mode": {
    "name": "ipython",
    "version": 3
   },
   "file_extension": ".py",
   "mimetype": "text/x-python",
   "name": "python",
   "nbconvert_exporter": "python",
   "pygments_lexer": "ipython3",
   "version": "3.12.6"
  }
 },
 "nbformat": 4,
 "nbformat_minor": 2
}
